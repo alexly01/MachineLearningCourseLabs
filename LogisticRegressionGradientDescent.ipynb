{
 "cells": [
  {
   "cell_type": "markdown",
   "id": "be560b40",
   "metadata": {},
   "source": [
    "# Assignment 3\n",
    "\n",
    "Alexander Ly\n",
    "027744520\n",
    "CECS 456\n",
    "Arjang Fahim"
   ]
  },
  {
   "cell_type": "markdown",
   "id": "ad9762f4",
   "metadata": {},
   "source": [
    "<img src=\"Assignment3Q1.jpg\">"
   ]
  },
  {
   "cell_type": "code",
   "execution_count": 4,
   "id": "5e9ec186",
   "metadata": {},
   "outputs": [
    {
     "data": {
      "image/png": "[encoded data removed]",
      "text/plain": [
       "<Figure size 1008x360 with 2 Axes>"
      ]
     },
     "metadata": {
      "needs_background": "light"
     },
     "output_type": "display_data"
    }
   ],
   "source": [
    "import numpy as np\n",
    "import matplotlib.pyplot as plt\n",
    "\n",
    "# Create sigmoid function for plotting\n",
    "def sig(x):\n",
    "    return 1 / (1 + np.exp(-x))\n",
    "\n",
    "# Create cross-entropy loss function for predictive value\n",
    "def cross_entropy_loss(y_true, y_pred):\n",
    "    epsilon = 1e-15\n",
    "    y_pred = np.clip(y_pred, epsilon, 1 - epsilon)\n",
    "    return -np.mean(y_true * np.log(y_pred) + (1 - y_true) * np.log(1 - y_pred))\n",
    "\n",
    "# Gradient descent function\n",
    "def gradient_descent(x, y, w0, w1, alpha, K):\n",
    "    n = len(x)\n",
    "    losses = []\n",
    "\n",
    "    for k in range(K):\n",
    "        z = w0 + w1 * x\n",
    "        y_pred = sig(z)\n",
    "\n",
    "        gradient_w0 = np.sum(y_pred - y) / n\n",
    "        gradient_w1 = np.sum((y_pred - y) * x) / n\n",
    "\n",
    "        w0 -= alpha * gradient_w0\n",
    "        w1 -= alpha * gradient_w1\n",
    "\n",
    "        loss = cross_entropy_loss(y, y_pred)\n",
    "        losses.append(loss)\n",
    "\n",
    "    return w0, w1, losses\n",
    "\n",
    "# Dataset\n",
    "x = np.array([-0.129459521167643, 0.171267764387476, 0.18900686604508, 0.6281774644773, 0.986983828793992, 1.1, 1.39999999999999, 4, 4.29999999999999, 4.5, 4.7])\n",
    "y = np.array([0, 0, 0, 0, 0, 1, 1, 1, 1, 1, 1])\n",
    "\n",
    "# Initialize our weights and the amount of iterations\n",
    "w0_initial = 3\n",
    "w1_initial = 3\n",
    "alpha = 0.01\n",
    "K_1 = 25\n",
    "K_2 = 2000\n",
    "x_range = np.linspace(min(x), max(x), 100) \n",
    "\n",
    "# Use gradient descent on setting 1\n",
    "w0_25, w1_25, _ = gradient_descent(x, y, w0_initial, w1_initial, alpha, K_1)\n",
    "\n",
    "# Use gradient descent on setting 2\n",
    "w0_2000, w1_2000, _ = gradient_descent(x, y, w0_initial, w1_initial, alpha, K_2)\n",
    "\n",
    "# Create a figure to plot our sigmoid functions onto\n",
    "fig, (plt1, plt2) = plt.subplots(1, 2, figsize=(14, 5))\n",
    "\n",
    "# Create a plot for the first setting\n",
    "plt1.scatter(x, y, color='blue')\n",
    "plt1.plot(x_range, sig(w0_25 + w1_25 * x_range), color='blue', label='K = 25')\n",
    "plt1.set_xlabel('x')\n",
    "plt1.set_ylabel('y')\n",
    "plt1.legend()\n",
    "plt1.set_title('Sigmoid Function Setting 1')\n",
    "\n",
    "# Create a plot for the second setting\n",
    "plt2.scatter(x, y, color='red')\n",
    "plt2.plot(x_range, sig(w0_2000 + w1_2000 * x_range), color='red', label='K = 2000')\n",
    "plt2.set_xlabel('x')\n",
    "plt2.set_ylabel('y')\n",
    "plt2.legend()\n",
    "plt2.set_title('Sigmoid Function Setting 2')\n",
    "plt.show()"
   ]
  },
  {
   "cell_type": "code",
   "execution_count": null,
   "id": "5590e33e",
   "metadata": {},
   "outputs": [],
   "source": []
  }
 ],
 "metadata": {
  "kernelspec": {
   "display_name": "Python 3 (ipykernel)",
   "language": "python",
   "name": "python3"
  },
  "language_info": {
   "codemirror_mode": {
    "name": "ipython",
    "version": 3
   },
   "file_extension": ".py",
   "mimetype": "text/x-python",
   "name": "python",
   "nbconvert_exporter": "python",
   "pygments_lexer": "ipython3",
   "version": "3.9.7"
  }
 },
 "nbformat": 4,
 "nbformat_minor": 5
}
