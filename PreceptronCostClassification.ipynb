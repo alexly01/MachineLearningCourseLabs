{
 "cells": [
  {
   "cell_type": "markdown",
   "id": "ea704edd",
   "metadata": {},
   "source": [
    "# Assignment 4\n",
    "\n",
    "Alexander Ly\n",
    "027744520\n",
    "CECS 456 Sec 02\n",
    "Arjang Fahim"
   ]
  },
  {
   "cell_type": "code",
   "execution_count": 246,
   "id": "b4d5ed85",
   "metadata": {},
   "outputs": [],
   "source": [
    "# imports\n",
    "import numpy as np\n",
    "import pandas as pd\n",
    "\n",
    "# load data from our csv\n",
    "data = pd.read_csv(\"credit_dataset.csv\", header=None)\n",
    "\n",
    "# Load csv file to numpy array \n",
    "#x is all columns but last row transposed\n",
    "#actual_val is the last row\n",
    "x = data.iloc[:, :-1].T.to_numpy()\n",
    "x = x[:, :-1]\n",
    "actual_val = data.iloc[-1, :].to_numpy()  "
   ]
  },
  {
   "cell_type": "code",
   "execution_count": 247,
   "id": "035bea4b",
   "metadata": {},
   "outputs": [],
   "source": [
    "# create random weights (range: -2, 2)\n",
    "np.random.seed(0)\n",
    "weights = np.random.uniform(-2, 2, size=x.shape[1])\n",
    "\n",
    "# learning rate and iteration\n",
    "alpha = 3.0  \n",
    "iterations = 1"
   ]
  },
  {
   "cell_type": "code",
   "execution_count": 251,
   "id": "8f1f6c8f",
   "metadata": {},
   "outputs": [
    {
     "name": "stdout",
     "output_type": "stream",
     "text": [
      "Confusion Matrix:\n",
      "True Negative: 261\n",
      "False Positive: 38\n",
      "False Negative: 35\n",
      "True Positive: 665\n"
     ]
    }
   ],
   "source": [
    "# initialize confusion matrix variables\n",
    "\n",
    "# act bad, pred bad\n",
    "true_negative = 0  \n",
    "# act bad, pred good\n",
    "false_positive = 0  \n",
    "# act good, pred bad\n",
    "false_negative = 0  \n",
    "# act good, pred good\n",
    "true_positive = 0  \n",
    "\n",
    "# perceptron\n",
    "for iteration in range(iterations):\n",
    "    for i in range(len(x)):\n",
    "        # calculate weighted sum\n",
    "        weighted_sum = np.dot(x[i], weights)\n",
    "\n",
    "        # step function\n",
    "        if weighted_sum >= 0:\n",
    "            prediction = 1\n",
    "        else:\n",
    "            prediction = -1\n",
    "\n",
    "        # update our weights\n",
    "        if prediction != actual_val[i]:\n",
    "            error = actual_val[i] - prediction\n",
    "            weights += alpha * error * x[i]\n",
    "\n",
    "        # input into confusion matrix depending on outcome\n",
    "        if actual_val[i] == -1 and prediction == -1:\n",
    "            true_negative += 1\n",
    "        elif actual_val[i] == -1 and prediction == 1:\n",
    "            false_positive += 1\n",
    "        elif actual_val[i] == 1 and prediction == -1:\n",
    "            false_negative += 1\n",
    "        elif actual_val[i] == 1 and prediction == 1:\n",
    "            true_positive += 1\n",
    "\n",
    "# print confusion matrix\n",
    "print(\"Confusion Matrix:\")\n",
    "print(\"True Negative:\",true_negative)\n",
    "print(\"False Positive:\",false_positive)\n",
    "print(\"False Negative:\", false_negative)\n",
    "print(\"True Positive:\", true_positive)"
   ]
  },
  {
   "cell_type": "code",
   "execution_count": 214,
   "id": "ac84de2b",
   "metadata": {},
   "outputs": [],
   "source": [
    "#with grad descent\n",
    "#import\n",
    "import numpy as np\n",
    "import pandas as pd\n",
    "\n",
    "#read dataset from csv\n",
    "data = pd.read_csv(\"credit_dataset.csv\", header=None)\n",
    "# x is all columns but last row\n",
    "x = data.iloc[:-1, :].to_numpy()\n",
    "# y is last row \n",
    "y = data.iloc[-1, :].to_numpy()"
   ]
  },
  {
   "cell_type": "code",
   "execution_count": 215,
   "id": "94708467",
   "metadata": {},
   "outputs": [],
   "source": [
    "# learning rate and iteration\n",
    "alpha = 3.0  \n",
    "iterations = 10000"
   ]
  },
  {
   "cell_type": "code",
   "execution_count": 240,
   "id": "5a825d13",
   "metadata": {},
   "outputs": [],
   "source": [
    "#softmax function\n",
    "def softmax(x):\n",
    "    e_x = np.exp(x - np.max(x))\n",
    "    return e_x / e_x.sum()"
   ]
  },
  {
   "cell_type": "code",
   "execution_count": 241,
   "id": "75309cdd",
   "metadata": {},
   "outputs": [],
   "source": [
    "#gradient descent\n",
    "def gradient(w, x, y):\n",
    "    P = len(x)\n",
    "    grad = np.zeros_like(w)\n",
    "\n",
    "    for p in range(P):\n",
    "        z = y[p] * np.dot(X[p], w)\n",
    "        if z >= 0:\n",
    "            softmax_val = np.exp(-z) / (1 + np.exp(-z))\n",
    "        else:\n",
    "            softmax_val = 1 / (1 + np.exp(z))\n",
    "        grad += -softmax_val * y[p] * X[p]\n",
    "    \n",
    "    return grad"
   ]
  },
  {
   "cell_type": "code",
   "execution_count": 242,
   "id": "d3e0df7c",
   "metadata": {},
   "outputs": [],
   "source": [
    "# train weights \n",
    "def train(X, y, learning_rate, iterations):\n",
    "    np.random.seed(0)\n",
    "    w = np.random.uniform(-2, 2, size=X.shape[1] - 1) \n",
    "\n",
    "    for iteration in range(iterations):\n",
    "        grad = gradient(w, X, y)\n",
    "        w -= learning_rate * grad\n",
    "\n",
    "    return w\n",
    "\n",
    "final_weights = train(x, y, alpha, iterations)"
   ]
  },
  {
   "cell_type": "code",
   "execution_count": 244,
   "id": "01887529",
   "metadata": {},
   "outputs": [
    {
     "ename": "ValueError",
     "evalue": "shapes (20,1000) and (999,) not aligned: 1000 (dim 1) != 999 (dim 0)",
     "output_type": "error",
     "traceback": [
      "\u001b[1;31m---------------------------------------------------------------------------\u001b[0m",
      "\u001b[1;31mValueError\u001b[0m                                Traceback (most recent call last)",
      "\u001b[1;32m~\\AppData\\Local\\Temp/ipykernel_14556/644421050.py\u001b[0m in \u001b[0;36m<module>\u001b[1;34m\u001b[0m\n\u001b[0;32m      1\u001b[0m \u001b[1;31m# activate function\u001b[0m\u001b[1;33m\u001b[0m\u001b[1;33m\u001b[0m\u001b[0m\n\u001b[1;32m----> 2\u001b[1;33m \u001b[0mpredictions\u001b[0m \u001b[1;33m=\u001b[0m \u001b[0mnp\u001b[0m\u001b[1;33m.\u001b[0m\u001b[0msign\u001b[0m\u001b[1;33m(\u001b[0m\u001b[0mnp\u001b[0m\u001b[1;33m.\u001b[0m\u001b[0mdot\u001b[0m\u001b[1;33m(\u001b[0m\u001b[0mx\u001b[0m\u001b[1;33m,\u001b[0m \u001b[0mfinal_weights\u001b[0m\u001b[1;33m)\u001b[0m\u001b[1;33m)\u001b[0m\u001b[1;33m\u001b[0m\u001b[1;33m\u001b[0m\u001b[0m\n\u001b[0m",
      "\u001b[1;32m<__array_function__ internals>\u001b[0m in \u001b[0;36mdot\u001b[1;34m(*args, **kwargs)\u001b[0m\n",
      "\u001b[1;31mValueError\u001b[0m: shapes (20,1000) and (999,) not aligned: 1000 (dim 1) != 999 (dim 0)"
     ]
    }
   ],
   "source": [
    "# activate function\n",
    "predictions = np.sign(np.dot(x, final_weights))"
   ]
  },
  {
   "cell_type": "code",
   "execution_count": 252,
   "id": "552edf9a",
   "metadata": {},
   "outputs": [
    {
     "ename": "ValueError",
     "evalue": "operands could not be broadcast together with shapes (1000,) (20,) ",
     "output_type": "error",
     "traceback": [
      "\u001b[1;31m---------------------------------------------------------------------------\u001b[0m",
      "\u001b[1;31mValueError\u001b[0m                                Traceback (most recent call last)",
      "\u001b[1;32m~\\AppData\\Local\\Temp/ipykernel_14556/3337187875.py\u001b[0m in \u001b[0;36m<module>\u001b[1;34m\u001b[0m\n\u001b[0;32m      1\u001b[0m \u001b[1;31m# compute confusion matrix\u001b[0m\u001b[1;33m\u001b[0m\u001b[1;33m\u001b[0m\u001b[0m\n\u001b[1;32m----> 2\u001b[1;33m \u001b[0mtrue_positives\u001b[0m \u001b[1;33m=\u001b[0m \u001b[0mnp\u001b[0m\u001b[1;33m.\u001b[0m\u001b[0msum\u001b[0m\u001b[1;33m(\u001b[0m\u001b[1;33m(\u001b[0m\u001b[0my\u001b[0m \u001b[1;33m==\u001b[0m \u001b[1;36m1\u001b[0m\u001b[1;33m)\u001b[0m \u001b[1;33m&\u001b[0m \u001b[1;33m(\u001b[0m\u001b[0mpredictions\u001b[0m \u001b[1;33m==\u001b[0m \u001b[1;36m1\u001b[0m\u001b[1;33m)\u001b[0m\u001b[1;33m)\u001b[0m\u001b[1;33m\u001b[0m\u001b[1;33m\u001b[0m\u001b[0m\n\u001b[0m\u001b[0;32m      3\u001b[0m \u001b[0mtrue_negatives\u001b[0m \u001b[1;33m=\u001b[0m \u001b[0mnp\u001b[0m\u001b[1;33m.\u001b[0m\u001b[0msum\u001b[0m\u001b[1;33m(\u001b[0m\u001b[1;33m(\u001b[0m\u001b[0my\u001b[0m \u001b[1;33m==\u001b[0m \u001b[1;33m-\u001b[0m\u001b[1;36m1\u001b[0m\u001b[1;33m)\u001b[0m \u001b[1;33m&\u001b[0m \u001b[1;33m(\u001b[0m\u001b[0mpredictions\u001b[0m \u001b[1;33m==\u001b[0m \u001b[1;33m-\u001b[0m\u001b[1;36m1\u001b[0m\u001b[1;33m)\u001b[0m\u001b[1;33m)\u001b[0m\u001b[1;33m\u001b[0m\u001b[1;33m\u001b[0m\u001b[0m\n\u001b[0;32m      4\u001b[0m \u001b[0mfalse_positives\u001b[0m \u001b[1;33m=\u001b[0m \u001b[0mnp\u001b[0m\u001b[1;33m.\u001b[0m\u001b[0msum\u001b[0m\u001b[1;33m(\u001b[0m\u001b[1;33m(\u001b[0m\u001b[0my\u001b[0m \u001b[1;33m==\u001b[0m \u001b[1;33m-\u001b[0m\u001b[1;36m1\u001b[0m\u001b[1;33m)\u001b[0m \u001b[1;33m&\u001b[0m \u001b[1;33m(\u001b[0m\u001b[0mpredictions\u001b[0m \u001b[1;33m==\u001b[0m \u001b[1;36m1\u001b[0m\u001b[1;33m)\u001b[0m\u001b[1;33m)\u001b[0m\u001b[1;33m\u001b[0m\u001b[1;33m\u001b[0m\u001b[0m\n\u001b[0;32m      5\u001b[0m \u001b[0mfalse_negatives\u001b[0m \u001b[1;33m=\u001b[0m \u001b[0mnp\u001b[0m\u001b[1;33m.\u001b[0m\u001b[0msum\u001b[0m\u001b[1;33m(\u001b[0m\u001b[1;33m(\u001b[0m\u001b[0my\u001b[0m \u001b[1;33m==\u001b[0m \u001b[1;36m1\u001b[0m\u001b[1;33m)\u001b[0m \u001b[1;33m&\u001b[0m \u001b[1;33m(\u001b[0m\u001b[0mpredictions\u001b[0m \u001b[1;33m==\u001b[0m \u001b[1;33m-\u001b[0m\u001b[1;36m1\u001b[0m\u001b[1;33m)\u001b[0m\u001b[1;33m)\u001b[0m\u001b[1;33m\u001b[0m\u001b[1;33m\u001b[0m\u001b[0m\n",
      "\u001b[1;31mValueError\u001b[0m: operands could not be broadcast together with shapes (1000,) (20,) "
     ]
    }
   ],
   "source": [
    "# compute confusion matrix\n",
    "true_positives = np.sum((y == 1) & (predictions == 1))\n",
    "true_negatives = np.sum((y == -1) & (predictions == -1))\n",
    "false_positives = np.sum((y == -1) & (predictions == 1))\n",
    "false_negatives = np.sum((y == 1) & (predictions == -1))\n",
    "\n",
    "# print confusion matrix\n",
    "print(\"Confusion Matrix:\")\n",
    "print(\"True Negative:\",true_negative)\n",
    "print(\"False Positive:\",false_positive)\n",
    "print(\"False Negative:\", false_negative)\n",
    "print(\"True Positive:\", true_positive)"
   ]
  },
  {
   "cell_type": "code",
   "execution_count": null,
   "id": "99542133",
   "metadata": {},
   "outputs": [],
   "source": []
  }
 ],
 "metadata": {
  "kernelspec": {
   "display_name": "Python 3 (ipykernel)",
   "language": "python",
   "name": "python3"
  },
  "language_info": {
   "codemirror_mode": {
    "name": "ipython",
    "version": 3
   },
   "file_extension": ".py",
   "mimetype": "text/x-python",
   "name": "python",
   "nbconvert_exporter": "python",
   "pygments_lexer": "ipython3",
   "version": "3.9.7"
  }
 },
 "nbformat": 4,
 "nbformat_minor": 5
}
