{
 "cells": [
  {
   "cell_type": "markdown",
   "id": "d1ecad6b",
   "metadata": {},
   "source": [
    "# Assignment 1\n",
    "\n",
    "Alexander Ly\n",
    "027744520\n",
    "CECS 456 Sec 02\n",
    "Arjang Fahim"
   ]
  },
  {
   "cell_type": "code",
   "execution_count": 215,
   "id": "4ff2376a",
   "metadata": {},
   "outputs": [],
   "source": [
    "import numpy as np\n",
    "import pandas as pd\n",
    "import matplotlib.pyplot as plt"
   ]
  },
  {
   "cell_type": "code",
   "execution_count": 216,
   "id": "297da8dd",
   "metadata": {},
   "outputs": [],
   "source": [
    "#variables\n",
    "beta_0 = 5\n",
    "beta_1 = 1"
   ]
  },
  {
   "cell_type": "code",
   "execution_count": 217,
   "id": "f8b86e72",
   "metadata": {},
   "outputs": [],
   "source": [
    "#create arrays\n",
    "X = np.random.normal(0, 1, size = 100)\n",
    "noise = np.random.normal(0,1, size = 100)"
   ]
  },
  {
   "cell_type": "code",
   "execution_count": 218,
   "id": "fb65dc1b",
   "metadata": {},
   "outputs": [],
   "source": [
    "#response array\n",
    "Y = beta_0 + beta_1 * X + noise"
   ]
  },
  {
   "cell_type": "code",
   "execution_count": 219,
   "id": "d4bbf889",
   "metadata": {},
   "outputs": [
    {
     "name": "stdout",
     "output_type": "stream",
     "text": [
      "           Y  constant         X\n",
      "0   6.754272         1  2.282348\n",
      "1   3.966248         1 -0.263122\n",
      "2   6.627660         1  0.765774\n",
      "3   6.482417         1  1.414258\n",
      "4   2.809291         1 -0.456693\n",
      "..       ...       ...       ...\n",
      "95  6.841104         1  2.146594\n",
      "96  3.546511         1 -0.857237\n",
      "97  2.809238         1 -2.192959\n",
      "98  4.481837         1  0.608756\n",
      "99  6.646578         1  0.257554\n",
      "\n",
      "[100 rows x 3 columns]\n"
     ]
    }
   ],
   "source": [
    "#pandas to display design matrix \n",
    "X_design = pd.DataFrame({'X': X})\n",
    "X_design['constant'] = 1\n",
    "X_design['Y'] = Y\n",
    "X_design = X_design[['Y', 'constant', 'X']]\n",
    "#display design matrix\n",
    "print(X_design)"
   ]
  },
  {
   "cell_type": "code",
   "execution_count": 220,
   "id": "d0a1c15f",
   "metadata": {},
   "outputs": [],
   "source": [
    "#grab numpy representation of the dataframes \n",
    "X_array = X_design[['constant', 'X']].values\n",
    "Y_array = X_design['Y'].values"
   ]
  },
  {
   "cell_type": "code",
   "execution_count": 221,
   "id": "cb9a83ed",
   "metadata": {},
   "outputs": [],
   "source": [
    "#obtain beta from given equation 𝛽 = (X^T X)^-1(X^T Y)\n",
    "XTX = np.dot(X_array.T, X_array)\n",
    "XTY = np.dot(X_array.T, Y_array)\n",
    "beta = np.dot(np.linalg.inv(XTX), XTY)"
   ]
  },
  {
   "cell_type": "code",
   "execution_count": 222,
   "id": "8b116d59",
   "metadata": {},
   "outputs": [
    {
     "name": "stdout",
     "output_type": "stream",
     "text": [
      "𝛽0: 4.943476869358945\n",
      "𝛽1: 0.9787729200964771\n"
     ]
    }
   ],
   "source": [
    "#beta[0] = intercept\n",
    "#beta[1] = slope\n",
    "print(\"𝛽0:\", beta[0])\n",
    "print(\"𝛽1:\", beta[1])"
   ]
  },
  {
   "cell_type": "code",
   "execution_count": 223,
   "id": "cf66d3a8",
   "metadata": {},
   "outputs": [
    {
     "data": {
      "image/png": "[encoded data removed]",
      "text/plain": [
       "<Figure size 432x288 with 1 Axes>"
      ]
     },
     "metadata": {
      "needs_background": "light"
     },
     "output_type": "display_data"
    }
   ],
   "source": [
    "#calculate line of best fit for linear regression model\n",
    "line_of_best_fit = beta[0] * X + beta[1]\n",
    "\n",
    "#create scatter plot from X and Y\n",
    "plt.scatter(X, Y, label='Data', alpha=0.3)\n",
    "\n",
    "#plot our line of best fit onto scatter plot\n",
    "plt.plot(X, line_of_best_fit, color='green', label='Line of Best Fit')\n",
    "\n",
    "#add labeling\n",
    "plt.xlabel('X')\n",
    "plt.ylabel('Y')\n",
    "plt.legend()\n",
    "plt.show()"
   ]
  }
 ],
 "metadata": {
  "kernelspec": {
   "display_name": "Python 3 (ipykernel)",
   "language": "python",
   "name": "python3"
  },
  "language_info": {
   "codemirror_mode": {
    "name": "ipython",
    "version": 3
   },
   "file_extension": ".py",
   "mimetype": "text/x-python",
   "name": "python",
   "nbconvert_exporter": "python",
   "pygments_lexer": "ipython3",
   "version": "3.9.7"
  }
 },
 "nbformat": 4,
 "nbformat_minor": 5
}
